{
 "cells": [
  {
   "cell_type": "code",
   "execution_count": 1,
   "id": "a1c9a88a-f089-402f-aa62-187ecaf99fce",
   "metadata": {},
   "outputs": [],
   "source": [
    "import numpy as np\n",
    "import pandas as pd\n",
    "import matplotlib.pyplot as plt\n",
    "import seaborn as sns\n",
    "\n",
    "from sklearn.model_selection import train_test_split\n",
    "from sklearn.pipeline import Pipeline\n",
    "from sklearn.compose import ColumnTransformer\n",
    "from sklearn.preprocessing import OneHotEncoder, StandardScaler\n",
    "from sklearn.feature_extraction.text import TfidfVectorizer\n",
    "from sklearn.impute import SimpleImputer\n",
    "from sklearn.metrics import (accuracy_score, precision_score, recall_score, f1_score,\n",
    "                             roc_auc_score, confusion_matrix, classification_report)\n",
    "from sklearn.linear_model import LogisticRegression\n",
    "from sklearn.ensemble import RandomForestClassifier\n",
    "from xgboost import XGBClassifier\n",
    "from imblearn.over_sampling import SMOTE\n"
   ]
  },
  {
   "cell_type": "code",
   "execution_count": 2,
   "id": "9a6a21b7-d1ab-4118-90f2-0f1d5ab4bdfb",
   "metadata": {},
   "outputs": [
    {
     "data": {
      "text/html": [
       "<div>\n",
       "<style scoped>\n",
       "    .dataframe tbody tr th:only-of-type {\n",
       "        vertical-align: middle;\n",
       "    }\n",
       "\n",
       "    .dataframe tbody tr th {\n",
       "        vertical-align: top;\n",
       "    }\n",
       "\n",
       "    .dataframe thead th {\n",
       "        text-align: right;\n",
       "    }\n",
       "</style>\n",
       "<table border=\"1\" class=\"dataframe\">\n",
       "  <thead>\n",
       "    <tr style=\"text-align: right;\">\n",
       "      <th></th>\n",
       "      <th>Unique id</th>\n",
       "      <th>channel_name</th>\n",
       "      <th>category</th>\n",
       "      <th>Sub-category</th>\n",
       "      <th>Customer Remarks</th>\n",
       "      <th>Order_id</th>\n",
       "      <th>order_date_time</th>\n",
       "      <th>Issue_reported at</th>\n",
       "      <th>issue_responded</th>\n",
       "      <th>Survey_response_Date</th>\n",
       "      <th>Customer_City</th>\n",
       "      <th>Product_category</th>\n",
       "      <th>Item_price</th>\n",
       "      <th>connected_handling_time</th>\n",
       "      <th>Agent_name</th>\n",
       "      <th>Supervisor</th>\n",
       "      <th>Manager</th>\n",
       "      <th>Tenure Bucket</th>\n",
       "      <th>Agent Shift</th>\n",
       "      <th>CSAT Score</th>\n",
       "    </tr>\n",
       "  </thead>\n",
       "  <tbody>\n",
       "    <tr>\n",
       "      <th>0</th>\n",
       "      <td>7e9ae164-6a8b-4521-a2d4-58f7c9fff13f</td>\n",
       "      <td>Outcall</td>\n",
       "      <td>Product Queries</td>\n",
       "      <td>Life Insurance</td>\n",
       "      <td>NaN</td>\n",
       "      <td>c27c9bb4-fa36-4140-9f1f-21009254ffdb</td>\n",
       "      <td>NaN</td>\n",
       "      <td>01/08/2023 11:13</td>\n",
       "      <td>01/08/2023 11:47</td>\n",
       "      <td>01-Aug-23</td>\n",
       "      <td>NaN</td>\n",
       "      <td>NaN</td>\n",
       "      <td>NaN</td>\n",
       "      <td>NaN</td>\n",
       "      <td>Richard Buchanan</td>\n",
       "      <td>Mason Gupta</td>\n",
       "      <td>Jennifer Nguyen</td>\n",
       "      <td>On Job Training</td>\n",
       "      <td>Morning</td>\n",
       "      <td>5</td>\n",
       "    </tr>\n",
       "    <tr>\n",
       "      <th>1</th>\n",
       "      <td>b07ec1b0-f376-43b6-86df-ec03da3b2e16</td>\n",
       "      <td>Outcall</td>\n",
       "      <td>Product Queries</td>\n",
       "      <td>Product Specific Information</td>\n",
       "      <td>NaN</td>\n",
       "      <td>d406b0c7-ce17-4654-b9de-f08d421254bd</td>\n",
       "      <td>NaN</td>\n",
       "      <td>01/08/2023 12:52</td>\n",
       "      <td>01/08/2023 12:54</td>\n",
       "      <td>01-Aug-23</td>\n",
       "      <td>NaN</td>\n",
       "      <td>NaN</td>\n",
       "      <td>NaN</td>\n",
       "      <td>NaN</td>\n",
       "      <td>Vicki Collins</td>\n",
       "      <td>Dylan Kim</td>\n",
       "      <td>Michael Lee</td>\n",
       "      <td>&gt;90</td>\n",
       "      <td>Morning</td>\n",
       "      <td>5</td>\n",
       "    </tr>\n",
       "    <tr>\n",
       "      <th>2</th>\n",
       "      <td>200814dd-27c7-4149-ba2b-bd3af3092880</td>\n",
       "      <td>Inbound</td>\n",
       "      <td>Order Related</td>\n",
       "      <td>Installation/demo</td>\n",
       "      <td>NaN</td>\n",
       "      <td>c273368d-b961-44cb-beaf-62d6fd6c00d5</td>\n",
       "      <td>NaN</td>\n",
       "      <td>01/08/2023 20:16</td>\n",
       "      <td>01/08/2023 20:38</td>\n",
       "      <td>01-Aug-23</td>\n",
       "      <td>NaN</td>\n",
       "      <td>NaN</td>\n",
       "      <td>NaN</td>\n",
       "      <td>NaN</td>\n",
       "      <td>Duane Norman</td>\n",
       "      <td>Jackson Park</td>\n",
       "      <td>William Kim</td>\n",
       "      <td>On Job Training</td>\n",
       "      <td>Evening</td>\n",
       "      <td>5</td>\n",
       "    </tr>\n",
       "    <tr>\n",
       "      <th>3</th>\n",
       "      <td>eb0d3e53-c1ca-42d3-8486-e42c8d622135</td>\n",
       "      <td>Inbound</td>\n",
       "      <td>Returns</td>\n",
       "      <td>Reverse Pickup Enquiry</td>\n",
       "      <td>NaN</td>\n",
       "      <td>5aed0059-55a4-4ec6-bb54-97942092020a</td>\n",
       "      <td>NaN</td>\n",
       "      <td>01/08/2023 20:56</td>\n",
       "      <td>01/08/2023 21:16</td>\n",
       "      <td>01-Aug-23</td>\n",
       "      <td>NaN</td>\n",
       "      <td>NaN</td>\n",
       "      <td>NaN</td>\n",
       "      <td>NaN</td>\n",
       "      <td>Patrick Flores</td>\n",
       "      <td>Olivia Wang</td>\n",
       "      <td>John Smith</td>\n",
       "      <td>&gt;90</td>\n",
       "      <td>Evening</td>\n",
       "      <td>5</td>\n",
       "    </tr>\n",
       "    <tr>\n",
       "      <th>4</th>\n",
       "      <td>ba903143-1e54-406c-b969-46c52f92e5df</td>\n",
       "      <td>Inbound</td>\n",
       "      <td>Cancellation</td>\n",
       "      <td>Not Needed</td>\n",
       "      <td>NaN</td>\n",
       "      <td>e8bed5a9-6933-4aff-9dc6-ccefd7dcde59</td>\n",
       "      <td>NaN</td>\n",
       "      <td>01/08/2023 10:30</td>\n",
       "      <td>01/08/2023 10:32</td>\n",
       "      <td>01-Aug-23</td>\n",
       "      <td>NaN</td>\n",
       "      <td>NaN</td>\n",
       "      <td>NaN</td>\n",
       "      <td>NaN</td>\n",
       "      <td>Christopher Sanchez</td>\n",
       "      <td>Austin Johnson</td>\n",
       "      <td>Michael Lee</td>\n",
       "      <td>0-30</td>\n",
       "      <td>Morning</td>\n",
       "      <td>5</td>\n",
       "    </tr>\n",
       "  </tbody>\n",
       "</table>\n",
       "</div>"
      ],
      "text/plain": [
       "                              Unique id channel_name         category  \\\n",
       "0  7e9ae164-6a8b-4521-a2d4-58f7c9fff13f      Outcall  Product Queries   \n",
       "1  b07ec1b0-f376-43b6-86df-ec03da3b2e16      Outcall  Product Queries   \n",
       "2  200814dd-27c7-4149-ba2b-bd3af3092880      Inbound    Order Related   \n",
       "3  eb0d3e53-c1ca-42d3-8486-e42c8d622135      Inbound          Returns   \n",
       "4  ba903143-1e54-406c-b969-46c52f92e5df      Inbound     Cancellation   \n",
       "\n",
       "                   Sub-category Customer Remarks  \\\n",
       "0                Life Insurance              NaN   \n",
       "1  Product Specific Information              NaN   \n",
       "2             Installation/demo              NaN   \n",
       "3        Reverse Pickup Enquiry              NaN   \n",
       "4                    Not Needed              NaN   \n",
       "\n",
       "                               Order_id order_date_time Issue_reported at  \\\n",
       "0  c27c9bb4-fa36-4140-9f1f-21009254ffdb             NaN  01/08/2023 11:13   \n",
       "1  d406b0c7-ce17-4654-b9de-f08d421254bd             NaN  01/08/2023 12:52   \n",
       "2  c273368d-b961-44cb-beaf-62d6fd6c00d5             NaN  01/08/2023 20:16   \n",
       "3  5aed0059-55a4-4ec6-bb54-97942092020a             NaN  01/08/2023 20:56   \n",
       "4  e8bed5a9-6933-4aff-9dc6-ccefd7dcde59             NaN  01/08/2023 10:30   \n",
       "\n",
       "    issue_responded Survey_response_Date Customer_City Product_category  \\\n",
       "0  01/08/2023 11:47            01-Aug-23           NaN              NaN   \n",
       "1  01/08/2023 12:54            01-Aug-23           NaN              NaN   \n",
       "2  01/08/2023 20:38            01-Aug-23           NaN              NaN   \n",
       "3  01/08/2023 21:16            01-Aug-23           NaN              NaN   \n",
       "4  01/08/2023 10:32            01-Aug-23           NaN              NaN   \n",
       "\n",
       "   Item_price  connected_handling_time           Agent_name      Supervisor  \\\n",
       "0         NaN                      NaN     Richard Buchanan     Mason Gupta   \n",
       "1         NaN                      NaN        Vicki Collins       Dylan Kim   \n",
       "2         NaN                      NaN         Duane Norman    Jackson Park   \n",
       "3         NaN                      NaN       Patrick Flores     Olivia Wang   \n",
       "4         NaN                      NaN  Christopher Sanchez  Austin Johnson   \n",
       "\n",
       "           Manager    Tenure Bucket Agent Shift  CSAT Score  \n",
       "0  Jennifer Nguyen  On Job Training     Morning           5  \n",
       "1      Michael Lee              >90     Morning           5  \n",
       "2      William Kim  On Job Training     Evening           5  \n",
       "3       John Smith              >90     Evening           5  \n",
       "4      Michael Lee             0-30     Morning           5  "
      ]
     },
     "execution_count": 2,
     "metadata": {},
     "output_type": "execute_result"
    }
   ],
   "source": [
    "df = pd.read_csv(\"customer_support_data.csv\")\n",
    "df.head()\n"
   ]
  },
  {
   "cell_type": "code",
   "execution_count": 3,
   "id": "5a50c9b8-51ae-4e24-83a1-2c9342c95811",
   "metadata": {},
   "outputs": [
    {
     "name": "stdout",
     "output_type": "stream",
     "text": [
      "Shape: (85907, 20)\n",
      "<class 'pandas.core.frame.DataFrame'>\n",
      "RangeIndex: 85907 entries, 0 to 85906\n",
      "Data columns (total 20 columns):\n",
      " #   Column                   Non-Null Count  Dtype  \n",
      "---  ------                   --------------  -----  \n",
      " 0   Unique id                85907 non-null  object \n",
      " 1   channel_name             85907 non-null  object \n",
      " 2   category                 85907 non-null  object \n",
      " 3   Sub-category             85907 non-null  object \n",
      " 4   Customer Remarks         28742 non-null  object \n",
      " 5   Order_id                 67675 non-null  object \n",
      " 6   order_date_time          17214 non-null  object \n",
      " 7   Issue_reported at        85907 non-null  object \n",
      " 8   issue_responded          85907 non-null  object \n",
      " 9   Survey_response_Date     85907 non-null  object \n",
      " 10  Customer_City            17079 non-null  object \n",
      " 11  Product_category         17196 non-null  object \n",
      " 12  Item_price               17206 non-null  float64\n",
      " 13  connected_handling_time  242 non-null    float64\n",
      " 14  Agent_name               85907 non-null  object \n",
      " 15  Supervisor               85907 non-null  object \n",
      " 16  Manager                  85907 non-null  object \n",
      " 17  Tenure Bucket            85907 non-null  object \n",
      " 18  Agent Shift              85907 non-null  object \n",
      " 19  CSAT Score               85907 non-null  int64  \n",
      "dtypes: float64(2), int64(1), object(17)\n",
      "memory usage: 13.1+ MB\n"
     ]
    },
    {
     "data": {
      "text/html": [
       "<div>\n",
       "<style scoped>\n",
       "    .dataframe tbody tr th:only-of-type {\n",
       "        vertical-align: middle;\n",
       "    }\n",
       "\n",
       "    .dataframe tbody tr th {\n",
       "        vertical-align: top;\n",
       "    }\n",
       "\n",
       "    .dataframe thead th {\n",
       "        text-align: right;\n",
       "    }\n",
       "</style>\n",
       "<table border=\"1\" class=\"dataframe\">\n",
       "  <thead>\n",
       "    <tr style=\"text-align: right;\">\n",
       "      <th></th>\n",
       "      <th>count</th>\n",
       "      <th>unique</th>\n",
       "      <th>top</th>\n",
       "      <th>freq</th>\n",
       "      <th>mean</th>\n",
       "      <th>std</th>\n",
       "      <th>min</th>\n",
       "      <th>25%</th>\n",
       "      <th>50%</th>\n",
       "      <th>75%</th>\n",
       "      <th>max</th>\n",
       "    </tr>\n",
       "  </thead>\n",
       "  <tbody>\n",
       "    <tr>\n",
       "      <th>Unique id</th>\n",
       "      <td>85907</td>\n",
       "      <td>85907</td>\n",
       "      <td>7e9ae164-6a8b-4521-a2d4-58f7c9fff13f</td>\n",
       "      <td>1</td>\n",
       "      <td>NaN</td>\n",
       "      <td>NaN</td>\n",
       "      <td>NaN</td>\n",
       "      <td>NaN</td>\n",
       "      <td>NaN</td>\n",
       "      <td>NaN</td>\n",
       "      <td>NaN</td>\n",
       "    </tr>\n",
       "    <tr>\n",
       "      <th>channel_name</th>\n",
       "      <td>85907</td>\n",
       "      <td>3</td>\n",
       "      <td>Inbound</td>\n",
       "      <td>68142</td>\n",
       "      <td>NaN</td>\n",
       "      <td>NaN</td>\n",
       "      <td>NaN</td>\n",
       "      <td>NaN</td>\n",
       "      <td>NaN</td>\n",
       "      <td>NaN</td>\n",
       "      <td>NaN</td>\n",
       "    </tr>\n",
       "    <tr>\n",
       "      <th>category</th>\n",
       "      <td>85907</td>\n",
       "      <td>12</td>\n",
       "      <td>Returns</td>\n",
       "      <td>44097</td>\n",
       "      <td>NaN</td>\n",
       "      <td>NaN</td>\n",
       "      <td>NaN</td>\n",
       "      <td>NaN</td>\n",
       "      <td>NaN</td>\n",
       "      <td>NaN</td>\n",
       "      <td>NaN</td>\n",
       "    </tr>\n",
       "    <tr>\n",
       "      <th>Sub-category</th>\n",
       "      <td>85907</td>\n",
       "      <td>57</td>\n",
       "      <td>Reverse Pickup Enquiry</td>\n",
       "      <td>22389</td>\n",
       "      <td>NaN</td>\n",
       "      <td>NaN</td>\n",
       "      <td>NaN</td>\n",
       "      <td>NaN</td>\n",
       "      <td>NaN</td>\n",
       "      <td>NaN</td>\n",
       "      <td>NaN</td>\n",
       "    </tr>\n",
       "    <tr>\n",
       "      <th>Customer Remarks</th>\n",
       "      <td>28742</td>\n",
       "      <td>18231</td>\n",
       "      <td>Good</td>\n",
       "      <td>1390</td>\n",
       "      <td>NaN</td>\n",
       "      <td>NaN</td>\n",
       "      <td>NaN</td>\n",
       "      <td>NaN</td>\n",
       "      <td>NaN</td>\n",
       "      <td>NaN</td>\n",
       "      <td>NaN</td>\n",
       "    </tr>\n",
       "    <tr>\n",
       "      <th>Order_id</th>\n",
       "      <td>67675</td>\n",
       "      <td>67675</td>\n",
       "      <td>c27c9bb4-fa36-4140-9f1f-21009254ffdb</td>\n",
       "      <td>1</td>\n",
       "      <td>NaN</td>\n",
       "      <td>NaN</td>\n",
       "      <td>NaN</td>\n",
       "      <td>NaN</td>\n",
       "      <td>NaN</td>\n",
       "      <td>NaN</td>\n",
       "      <td>NaN</td>\n",
       "    </tr>\n",
       "    <tr>\n",
       "      <th>order_date_time</th>\n",
       "      <td>17214</td>\n",
       "      <td>13766</td>\n",
       "      <td>09/08/2023 11:55</td>\n",
       "      <td>7</td>\n",
       "      <td>NaN</td>\n",
       "      <td>NaN</td>\n",
       "      <td>NaN</td>\n",
       "      <td>NaN</td>\n",
       "      <td>NaN</td>\n",
       "      <td>NaN</td>\n",
       "      <td>NaN</td>\n",
       "    </tr>\n",
       "    <tr>\n",
       "      <th>Issue_reported at</th>\n",
       "      <td>85907</td>\n",
       "      <td>30923</td>\n",
       "      <td>13/08/2023 10:40</td>\n",
       "      <td>13</td>\n",
       "      <td>NaN</td>\n",
       "      <td>NaN</td>\n",
       "      <td>NaN</td>\n",
       "      <td>NaN</td>\n",
       "      <td>NaN</td>\n",
       "      <td>NaN</td>\n",
       "      <td>NaN</td>\n",
       "    </tr>\n",
       "    <tr>\n",
       "      <th>issue_responded</th>\n",
       "      <td>85907</td>\n",
       "      <td>30262</td>\n",
       "      <td>28/08/2023 00:00</td>\n",
       "      <td>3378</td>\n",
       "      <td>NaN</td>\n",
       "      <td>NaN</td>\n",
       "      <td>NaN</td>\n",
       "      <td>NaN</td>\n",
       "      <td>NaN</td>\n",
       "      <td>NaN</td>\n",
       "      <td>NaN</td>\n",
       "    </tr>\n",
       "    <tr>\n",
       "      <th>Survey_response_Date</th>\n",
       "      <td>85907</td>\n",
       "      <td>31</td>\n",
       "      <td>28-Aug-23</td>\n",
       "      <td>3452</td>\n",
       "      <td>NaN</td>\n",
       "      <td>NaN</td>\n",
       "      <td>NaN</td>\n",
       "      <td>NaN</td>\n",
       "      <td>NaN</td>\n",
       "      <td>NaN</td>\n",
       "      <td>NaN</td>\n",
       "    </tr>\n",
       "    <tr>\n",
       "      <th>Customer_City</th>\n",
       "      <td>17079</td>\n",
       "      <td>1782</td>\n",
       "      <td>HYDERABAD</td>\n",
       "      <td>722</td>\n",
       "      <td>NaN</td>\n",
       "      <td>NaN</td>\n",
       "      <td>NaN</td>\n",
       "      <td>NaN</td>\n",
       "      <td>NaN</td>\n",
       "      <td>NaN</td>\n",
       "      <td>NaN</td>\n",
       "    </tr>\n",
       "    <tr>\n",
       "      <th>Product_category</th>\n",
       "      <td>17196</td>\n",
       "      <td>9</td>\n",
       "      <td>Electronics</td>\n",
       "      <td>4706</td>\n",
       "      <td>NaN</td>\n",
       "      <td>NaN</td>\n",
       "      <td>NaN</td>\n",
       "      <td>NaN</td>\n",
       "      <td>NaN</td>\n",
       "      <td>NaN</td>\n",
       "      <td>NaN</td>\n",
       "    </tr>\n",
       "    <tr>\n",
       "      <th>Item_price</th>\n",
       "      <td>17206.0</td>\n",
       "      <td>NaN</td>\n",
       "      <td>NaN</td>\n",
       "      <td>NaN</td>\n",
       "      <td>5660.774846</td>\n",
       "      <td>12825.728411</td>\n",
       "      <td>0.0</td>\n",
       "      <td>392.0</td>\n",
       "      <td>979.0</td>\n",
       "      <td>2699.75</td>\n",
       "      <td>164999.0</td>\n",
       "    </tr>\n",
       "    <tr>\n",
       "      <th>connected_handling_time</th>\n",
       "      <td>242.0</td>\n",
       "      <td>NaN</td>\n",
       "      <td>NaN</td>\n",
       "      <td>NaN</td>\n",
       "      <td>462.400826</td>\n",
       "      <td>246.295037</td>\n",
       "      <td>0.0</td>\n",
       "      <td>293.0</td>\n",
       "      <td>427.0</td>\n",
       "      <td>592.25</td>\n",
       "      <td>1986.0</td>\n",
       "    </tr>\n",
       "    <tr>\n",
       "      <th>Agent_name</th>\n",
       "      <td>85907</td>\n",
       "      <td>1371</td>\n",
       "      <td>Wendy Taylor</td>\n",
       "      <td>429</td>\n",
       "      <td>NaN</td>\n",
       "      <td>NaN</td>\n",
       "      <td>NaN</td>\n",
       "      <td>NaN</td>\n",
       "      <td>NaN</td>\n",
       "      <td>NaN</td>\n",
       "      <td>NaN</td>\n",
       "    </tr>\n",
       "    <tr>\n",
       "      <th>Supervisor</th>\n",
       "      <td>85907</td>\n",
       "      <td>40</td>\n",
       "      <td>Carter Park</td>\n",
       "      <td>4273</td>\n",
       "      <td>NaN</td>\n",
       "      <td>NaN</td>\n",
       "      <td>NaN</td>\n",
       "      <td>NaN</td>\n",
       "      <td>NaN</td>\n",
       "      <td>NaN</td>\n",
       "      <td>NaN</td>\n",
       "    </tr>\n",
       "    <tr>\n",
       "      <th>Manager</th>\n",
       "      <td>85907</td>\n",
       "      <td>6</td>\n",
       "      <td>John Smith</td>\n",
       "      <td>25261</td>\n",
       "      <td>NaN</td>\n",
       "      <td>NaN</td>\n",
       "      <td>NaN</td>\n",
       "      <td>NaN</td>\n",
       "      <td>NaN</td>\n",
       "      <td>NaN</td>\n",
       "      <td>NaN</td>\n",
       "    </tr>\n",
       "    <tr>\n",
       "      <th>Tenure Bucket</th>\n",
       "      <td>85907</td>\n",
       "      <td>5</td>\n",
       "      <td>&gt;90</td>\n",
       "      <td>30660</td>\n",
       "      <td>NaN</td>\n",
       "      <td>NaN</td>\n",
       "      <td>NaN</td>\n",
       "      <td>NaN</td>\n",
       "      <td>NaN</td>\n",
       "      <td>NaN</td>\n",
       "      <td>NaN</td>\n",
       "    </tr>\n",
       "    <tr>\n",
       "      <th>Agent Shift</th>\n",
       "      <td>85907</td>\n",
       "      <td>5</td>\n",
       "      <td>Morning</td>\n",
       "      <td>41426</td>\n",
       "      <td>NaN</td>\n",
       "      <td>NaN</td>\n",
       "      <td>NaN</td>\n",
       "      <td>NaN</td>\n",
       "      <td>NaN</td>\n",
       "      <td>NaN</td>\n",
       "      <td>NaN</td>\n",
       "    </tr>\n",
       "    <tr>\n",
       "      <th>CSAT Score</th>\n",
       "      <td>85907.0</td>\n",
       "      <td>NaN</td>\n",
       "      <td>NaN</td>\n",
       "      <td>NaN</td>\n",
       "      <td>4.242157</td>\n",
       "      <td>1.378903</td>\n",
       "      <td>1.0</td>\n",
       "      <td>4.0</td>\n",
       "      <td>5.0</td>\n",
       "      <td>5.0</td>\n",
       "      <td>5.0</td>\n",
       "    </tr>\n",
       "  </tbody>\n",
       "</table>\n",
       "</div>"
      ],
      "text/plain": [
       "                           count unique                                   top  \\\n",
       "Unique id                  85907  85907  7e9ae164-6a8b-4521-a2d4-58f7c9fff13f   \n",
       "channel_name               85907      3                               Inbound   \n",
       "category                   85907     12                               Returns   \n",
       "Sub-category               85907     57                Reverse Pickup Enquiry   \n",
       "Customer Remarks           28742  18231                                 Good    \n",
       "Order_id                   67675  67675  c27c9bb4-fa36-4140-9f1f-21009254ffdb   \n",
       "order_date_time            17214  13766                      09/08/2023 11:55   \n",
       "Issue_reported at          85907  30923                      13/08/2023 10:40   \n",
       "issue_responded            85907  30262                      28/08/2023 00:00   \n",
       "Survey_response_Date       85907     31                             28-Aug-23   \n",
       "Customer_City              17079   1782                             HYDERABAD   \n",
       "Product_category           17196      9                           Electronics   \n",
       "Item_price               17206.0    NaN                                   NaN   \n",
       "connected_handling_time    242.0    NaN                                   NaN   \n",
       "Agent_name                 85907   1371                          Wendy Taylor   \n",
       "Supervisor                 85907     40                           Carter Park   \n",
       "Manager                    85907      6                            John Smith   \n",
       "Tenure Bucket              85907      5                                   >90   \n",
       "Agent Shift                85907      5                               Morning   \n",
       "CSAT Score               85907.0    NaN                                   NaN   \n",
       "\n",
       "                          freq         mean           std  min    25%    50%  \\\n",
       "Unique id                    1          NaN           NaN  NaN    NaN    NaN   \n",
       "channel_name             68142          NaN           NaN  NaN    NaN    NaN   \n",
       "category                 44097          NaN           NaN  NaN    NaN    NaN   \n",
       "Sub-category             22389          NaN           NaN  NaN    NaN    NaN   \n",
       "Customer Remarks          1390          NaN           NaN  NaN    NaN    NaN   \n",
       "Order_id                     1          NaN           NaN  NaN    NaN    NaN   \n",
       "order_date_time              7          NaN           NaN  NaN    NaN    NaN   \n",
       "Issue_reported at           13          NaN           NaN  NaN    NaN    NaN   \n",
       "issue_responded           3378          NaN           NaN  NaN    NaN    NaN   \n",
       "Survey_response_Date      3452          NaN           NaN  NaN    NaN    NaN   \n",
       "Customer_City              722          NaN           NaN  NaN    NaN    NaN   \n",
       "Product_category          4706          NaN           NaN  NaN    NaN    NaN   \n",
       "Item_price                 NaN  5660.774846  12825.728411  0.0  392.0  979.0   \n",
       "connected_handling_time    NaN   462.400826    246.295037  0.0  293.0  427.0   \n",
       "Agent_name                 429          NaN           NaN  NaN    NaN    NaN   \n",
       "Supervisor                4273          NaN           NaN  NaN    NaN    NaN   \n",
       "Manager                  25261          NaN           NaN  NaN    NaN    NaN   \n",
       "Tenure Bucket            30660          NaN           NaN  NaN    NaN    NaN   \n",
       "Agent Shift              41426          NaN           NaN  NaN    NaN    NaN   \n",
       "CSAT Score                 NaN     4.242157      1.378903  1.0    4.0    5.0   \n",
       "\n",
       "                             75%       max  \n",
       "Unique id                    NaN       NaN  \n",
       "channel_name                 NaN       NaN  \n",
       "category                     NaN       NaN  \n",
       "Sub-category                 NaN       NaN  \n",
       "Customer Remarks             NaN       NaN  \n",
       "Order_id                     NaN       NaN  \n",
       "order_date_time              NaN       NaN  \n",
       "Issue_reported at            NaN       NaN  \n",
       "issue_responded              NaN       NaN  \n",
       "Survey_response_Date         NaN       NaN  \n",
       "Customer_City                NaN       NaN  \n",
       "Product_category             NaN       NaN  \n",
       "Item_price               2699.75  164999.0  \n",
       "connected_handling_time   592.25    1986.0  \n",
       "Agent_name                   NaN       NaN  \n",
       "Supervisor                   NaN       NaN  \n",
       "Manager                      NaN       NaN  \n",
       "Tenure Bucket                NaN       NaN  \n",
       "Agent Shift                  NaN       NaN  \n",
       "CSAT Score                   5.0       5.0  "
      ]
     },
     "execution_count": 3,
     "metadata": {},
     "output_type": "execute_result"
    }
   ],
   "source": [
    "print(\"Shape:\", df.shape)\n",
    "df.info()\n",
    "df.describe(include=\"all\").transpose()\n"
   ]
  },
  {
   "cell_type": "code",
   "execution_count": 4,
   "id": "52029bec-0cfd-4682-b0c7-95f7b1c0dbef",
   "metadata": {},
   "outputs": [
    {
     "name": "stdout",
     "output_type": "stream",
     "text": [
      "Missing Values per Column:\n",
      "Unique id                      0\n",
      "channel_name                   0\n",
      "category                       0\n",
      "Sub-category                   0\n",
      "Customer Remarks           57165\n",
      "Order_id                   18232\n",
      "order_date_time            68693\n",
      "Issue_reported at              0\n",
      "issue_responded                0\n",
      "Survey_response_Date           0\n",
      "Customer_City              68828\n",
      "Product_category           68711\n",
      "Item_price                 68701\n",
      "connected_handling_time    85665\n",
      "Agent_name                     0\n",
      "Supervisor                     0\n",
      "Manager                        0\n",
      "Tenure Bucket                  0\n",
      "Agent Shift                    0\n",
      "CSAT Score                     0\n",
      "dtype: int64\n"
     ]
    }
   ],
   "source": [
    "print(\"Missing Values per Column:\")\n",
    "print(df.isnull().sum())\n"
   ]
  },
  {
   "cell_type": "code",
   "execution_count": 5,
   "id": "d2154082-1a0f-49e9-b344-ca4fc9509fb5",
   "metadata": {},
   "outputs": [
    {
     "data": {
      "image/png": "[encoded data removed]",
      "text/plain": [
       "<Figure size 600x400 with 1 Axes>"
      ]
     },
     "metadata": {},
     "output_type": "display_data"
    }
   ],
   "source": [
    "plt.figure(figsize=(6,4))\n",
    "sns.countplot(x=\"CSAT Score\", data=df, hue=\"CSAT Score\", palette=\"viridis\", legend=False)\n",
    "plt.title(\"Distribution of CSAT Score\")\n",
    "plt.show()\n"
   ]
  },
  {
   "cell_type": "code",
   "execution_count": 6,
   "id": "5e6f682a-1be1-4bf0-8a61-640c9e54e832",
   "metadata": {},
   "outputs": [
    {
     "name": "stdout",
     "output_type": "stream",
     "text": [
      "Index(['Unique id', 'channel_name', 'category', 'Sub-category',\n",
      "       'Customer Remarks', 'Order_id', 'order_date_time', 'Issue_reported at',\n",
      "       'issue_responded', 'Survey_response_Date', 'Customer_City',\n",
      "       'Product_category', 'Item_price', 'connected_handling_time',\n",
      "       'Agent_name', 'Supervisor', 'Manager', 'Tenure Bucket', 'Agent Shift',\n",
      "       'CSAT Score'],\n",
      "      dtype='object')\n"
     ]
    }
   ],
   "source": [
    "print(df.columns)\n"
   ]
  },
  {
   "cell_type": "markdown",
   "id": "0cb72160-f42f-411f-8107-977acf0d0793",
   "metadata": {},
   "source": [
    "#  Exploratory Data Analysis (EDA)"
   ]
  },
  {
   "cell_type": "markdown",
   "id": "816d3ac6-190e-4d2f-a641-f34773a34c4e",
   "metadata": {},
   "source": [
    "# Target Variable Distribution"
   ]
  },
  {
   "cell_type": "code",
   "execution_count": 7,
   "id": "a6f6d1f5-ef11-4798-bf12-f282d4f3e62e",
   "metadata": {},
   "outputs": [
    {
     "data": {
      "image/png": "[encoded data removed]",
      "text/plain": [
       "<Figure size 600x400 with 1 Axes>"
      ]
     },
     "metadata": {},
     "output_type": "display_data"
    }
   ],
   "source": [
    "plt.figure(figsize=(6,4))\n",
    "sns.countplot(x=\"CSAT Score\", hue=\"CSAT Score\", data=df, palette=\"viridis\", legend=False)\n",
    "plt.title(\"Distribution of CSAT Score\")\n",
    "plt.show()"
   ]
  },
  {
   "cell_type": "markdown",
   "id": "4effb90c-28bd-4db8-9433-42b48c147783",
   "metadata": {},
   "source": [
    "# CSAT by Channel "
   ]
  },
  {
   "cell_type": "code",
   "execution_count": 8,
   "id": "53e76956-c19a-48f6-92df-77c45a4c950b",
   "metadata": {},
   "outputs": [
    {
     "data": {
      "image/png": "[encoded data removed]",
      "text/plain": [
       "<Figure size 800x400 with 1 Axes>"
      ]
     },
     "metadata": {},
     "output_type": "display_data"
    }
   ],
   "source": [
    "if {\"CSAT Score\",\"channel_name\"} <= set(df.columns):\n",
    "    plt.figure(figsize=(8,4))\n",
    "    sns.countplot(x=\"channel_name\", hue=\"CSAT Score\", data=df, palette=\"Set2\")\n",
    "    plt.title(\"CSAT by Channel\")\n",
    "    plt.xticks(rotation=45)\n",
    "    plt.show()"
   ]
  },
  {
   "cell_type": "markdown",
   "id": "74e2e920-3b65-42ca-b090-0e680701e2a8",
   "metadata": {},
   "source": [
    "# Handling Time Distribution"
   ]
  },
  {
   "cell_type": "code",
   "execution_count": 9,
   "id": "d19618ba-6d46-42d5-9553-3f7364396cb8",
   "metadata": {},
   "outputs": [
    {
     "data": {
      "image/png": "[encoded data removed]",
      "text/plain": [
       "<Figure size 600x400 with 1 Axes>"
      ]
     },
     "metadata": {},
     "output_type": "display_data"
    }
   ],
   "source": [
    "if \"connected_handling_time\" in df.columns:\n",
    "    plt.figure(figsize=(6,4))\n",
    "    sns.histplot(df[\"connected_handling_time\"], bins=30, kde=True, color=\"blue\")\n",
    "    plt.title(\"Distribution of Handling Time\")\n",
    "    plt.show()"
   ]
  },
  {
   "cell_type": "markdown",
   "id": "db13d180-35ba-4c1e-ae1f-f6d542645443",
   "metadata": {},
   "source": [
    "# Item Price vs CSAT"
   ]
  },
  {
   "cell_type": "code",
   "execution_count": 10,
   "id": "796de27b-4bdf-4f52-a559-f334d813003e",
   "metadata": {},
   "outputs": [
    {
     "data": {
      "image/png": "[encoded data removed]",
      "text/plain": [
       "<Figure size 600x400 with 1 Axes>"
      ]
     },
     "metadata": {},
     "output_type": "display_data"
    }
   ],
   "source": [
    "df_box = df[[\"CSAT Score\", \"Item_price\"]].dropna()  # Correct column name\n",
    "plt.figure(figsize=(6,4))\n",
    "sns.boxplot(x=\"CSAT Score\", y=\"Item_price\", data=df_box, color=\"mediumseagreen\")\n",
    "plt.title(\"Item Price vs CSAT\")\n",
    "plt.show()\n"
   ]
  },
  {
   "cell_type": "markdown",
   "id": "1af196de-743a-4f72-998d-5b5ea181bd3a",
   "metadata": {},
   "source": [
    "# Feature Engineering"
   ]
  },
  {
   "cell_type": "markdown",
   "id": "0aad1726-a244-470f-9fee-e9b97cd42787",
   "metadata": {},
   "source": [
    "# Convert date columns to datetime"
   ]
  },
  {
   "cell_type": "code",
   "execution_count": 11,
   "id": "5d7621f8-a89c-4fd7-9111-2a5d2509e3de",
   "metadata": {},
   "outputs": [],
   "source": [
    "date_cols = [\"order_date_time\", \"Issue_reported at\", \"issue_responded\", \"Survey_response_Date\"]\n",
    "\n",
    "for col in date_cols:\n",
    "    if col in df.columns:\n",
    "        # Explicit format\n",
    "        df[col] = pd.to_datetime(df[col], format=\"%d/%m/%Y %H:%M\", errors='coerce')\n"
   ]
  },
  {
   "cell_type": "markdown",
   "id": "dc7ba5c1-9eae-40a9-8ce9-50270b2c7b22",
   "metadata": {},
   "source": [
    "## Create new features: response time & time since order (in minutes)"
   ]
  },
  {
   "cell_type": "code",
   "execution_count": 12,
   "id": "5536335a-2f05-4d63-a40e-c9d933f39a60",
   "metadata": {},
   "outputs": [],
   "source": [
    "df[\"response_time_min\"] = (df[\"issue_responded\"] - df[\"Issue_reported at\"]).dt.total_seconds()/60\n",
    "df[\"time_since_order_min\"] = (df[\"Issue_reported at\"] - df[\"order_date_time\"]).dt.total_seconds()/60\n"
   ]
  },
  {
   "cell_type": "markdown",
   "id": "d05ef0a3-ac40-4d11-96a0-750380192065",
   "metadata": {},
   "source": [
    "# Fill missing values and clip unrealistic values"
   ]
  },
  {
   "cell_type": "code",
   "execution_count": 13,
   "id": "bd7b4959-0e1d-4772-91c6-52e63caee640",
   "metadata": {},
   "outputs": [],
   "source": [
    "df[\"response_time_min\"] = df[\"response_time_min\"].fillna(df[\"response_time_min\"].median()).clip(0, 60*24)\n",
    "df[\"time_since_order_min\"] = df[\"time_since_order_min\"].fillna(df[\"time_since_order_min\"].median()).clip(0, 60*24*30)\n"
   ]
  },
  {
   "cell_type": "markdown",
   "id": "5d14a01f-2f46-49c4-b8f2-d4a4134c7def",
   "metadata": {},
   "source": [
    "# Simple sentiment flag from Customer Remarks"
   ]
  },
  {
   "cell_type": "code",
   "execution_count": 14,
   "id": "c3f3575b-b9e1-432d-afcc-bd996c246044",
   "metadata": {},
   "outputs": [],
   "source": [
    "neg_terms = [\"not\",\"bad\",\"awful\",\"delay\",\"broken\",\"refund\",\"never\",\"disappoint\"]\n",
    "df[\"neg_flag\"] = df[\"Customer Remarks\"].astype(str).str.lower().apply(lambda s: int(any(t in s for t in neg_terms)))\n"
   ]
  },
  {
   "cell_type": "markdown",
   "id": "2d8b06a5-8d41-4957-a6ff-b8d571b94dec",
   "metadata": {},
   "source": [
    "# Display first 5 rows of new features"
   ]
  },
  {
   "cell_type": "code",
   "execution_count": 15,
   "id": "317fe890-b574-472e-968a-1f37ee2d6800",
   "metadata": {},
   "outputs": [
    {
     "data": {
      "text/html": [
       "<div>\n",
       "<style scoped>\n",
       "    .dataframe tbody tr th:only-of-type {\n",
       "        vertical-align: middle;\n",
       "    }\n",
       "\n",
       "    .dataframe tbody tr th {\n",
       "        vertical-align: top;\n",
       "    }\n",
       "\n",
       "    .dataframe thead th {\n",
       "        text-align: right;\n",
       "    }\n",
       "</style>\n",
       "<table border=\"1\" class=\"dataframe\">\n",
       "  <thead>\n",
       "    <tr style=\"text-align: right;\">\n",
       "      <th></th>\n",
       "      <th>response_time_min</th>\n",
       "      <th>time_since_order_min</th>\n",
       "      <th>neg_flag</th>\n",
       "    </tr>\n",
       "  </thead>\n",
       "  <tbody>\n",
       "    <tr>\n",
       "      <th>0</th>\n",
       "      <td>34.0</td>\n",
       "      <td>13017.0</td>\n",
       "      <td>0</td>\n",
       "    </tr>\n",
       "    <tr>\n",
       "      <th>1</th>\n",
       "      <td>2.0</td>\n",
       "      <td>13017.0</td>\n",
       "      <td>0</td>\n",
       "    </tr>\n",
       "    <tr>\n",
       "      <th>2</th>\n",
       "      <td>22.0</td>\n",
       "      <td>13017.0</td>\n",
       "      <td>0</td>\n",
       "    </tr>\n",
       "    <tr>\n",
       "      <th>3</th>\n",
       "      <td>20.0</td>\n",
       "      <td>13017.0</td>\n",
       "      <td>0</td>\n",
       "    </tr>\n",
       "    <tr>\n",
       "      <th>4</th>\n",
       "      <td>2.0</td>\n",
       "      <td>13017.0</td>\n",
       "      <td>0</td>\n",
       "    </tr>\n",
       "  </tbody>\n",
       "</table>\n",
       "</div>"
      ],
      "text/plain": [
       "   response_time_min  time_since_order_min  neg_flag\n",
       "0               34.0               13017.0         0\n",
       "1                2.0               13017.0         0\n",
       "2               22.0               13017.0         0\n",
       "3               20.0               13017.0         0\n",
       "4                2.0               13017.0         0"
      ]
     },
     "execution_count": 15,
     "metadata": {},
     "output_type": "execute_result"
    }
   ],
   "source": [
    "df[[\"response_time_min\",\"time_since_order_min\",\"neg_flag\"]].head()"
   ]
  },
  {
   "cell_type": "markdown",
   "id": "d5f599dd-7a90-4ce2-90d4-f3c672186634",
   "metadata": {},
   "source": [
    "# Preprocessing Pipeline"
   ]
  },
  {
   "cell_type": "code",
   "execution_count": 16,
   "id": "2ed218ad-cffc-4cfb-b86f-a470b8801185",
   "metadata": {},
   "outputs": [],
   "source": [
    "#Preprocessing Pipeline\n",
    "\n",
    "from sklearn.pipeline import Pipeline\n",
    "from sklearn.compose import ColumnTransformer\n",
    "from sklearn.preprocessing import StandardScaler, OneHotEncoder\n",
    "from sklearn.impute import SimpleImputer\n",
    "from sklearn.feature_extraction.text import TfidfVectorizer\n",
    "\n",
    "# Define columns\n",
    "text_col = \"Customer Remarks\"\n",
    "num_cols = [\"response_time_min\", \"time_since_order_min\", \"connected_handling_time\", \"Item_price\", \"neg_flag\"]\n",
    "cat_cols = [\"channel_name\", \"category\", \"Sub-category\", \"Customer_City\", \"Product_category\", \"Tenure Bucket\", \"Agent Shift\"]\n",
    "\n",
    "# Numeric pipeline\n",
    "numeric_transformer = Pipeline([\n",
    "    (\"imputer\", SimpleImputer(strategy=\"median\")),\n",
    "    (\"scaler\", StandardScaler())\n",
    "])\n",
    "\n",
    "\n",
    "# Categorical pipeline\n",
    "categorical_transformer = Pipeline([\n",
    "    (\"imputer\", SimpleImputer(strategy=\"most_frequent\")),\n",
    "    (\"onehot\", OneHotEncoder(handle_unknown=\"ignore\", sparse_output=False))\n",
    "])\n",
    "\n",
    "\n",
    "# Text pipeline\n",
    "text_transformer = Pipeline([\n",
    "    (\"imputer\", SimpleImputer(strategy=\"constant\", fill_value=\"\")),\n",
    "    (\"tfidf\", TfidfVectorizer(max_features=2000, ngram_range=(1,2)))\n",
    "])\n",
    "\n",
    "# Combine all transformers\n",
    "preprocessor = ColumnTransformer([\n",
    "    (\"num\", numeric_transformer, num_cols),\n",
    "    (\"cat\", categorical_transformer, cat_cols),\n",
    "    (\"txt\", text_transformer, text_col)\n",
    "])\n"
   ]
  },
  {
   "cell_type": "markdown",
   "id": "12994bdc-b740-40e5-84b1-4a1fabb4ce25",
   "metadata": {},
   "source": [
    "# Train-Test Split"
   ]
  },
  {
   "cell_type": "code",
   "execution_count": 17,
   "id": "5a4a7a52-fa33-42e2-8d17-eb5634c19ac5",
   "metadata": {},
   "outputs": [
    {
     "name": "stdout",
     "output_type": "stream",
     "text": [
      "X_train: (64430, 13)\n",
      "X_test : (21477, 13)\n",
      "y_train: (64430,)\n",
      "y_test : (21477,)\n"
     ]
    }
   ],
   "source": [
    "# Features (X) and target (y)\n",
    "X = df[num_cols + cat_cols + [text_col]]\n",
    "y = df[\"CSAT Score\"].apply(lambda x: 1 if x >= 4 else 0)  # 1 = satisfied, 0 = not satisfied\n",
    "\n",
    "from sklearn.model_selection import train_test_split\n",
    "\n",
    "# Split data\n",
    "X_train, X_test, y_train, y_test = train_test_split(\n",
    "    X, y, test_size=0.25, stratify=y, random_state=42\n",
    ")\n",
    "\n",
    "# Check shapes\n",
    "print(\"X_train:\", X_train.shape)\n",
    "print(\"X_test :\", X_test.shape)\n",
    "print(\"y_train:\", y_train.shape)\n",
    "print(\"y_test :\", y_test.shape)\n"
   ]
  },
  {
   "cell_type": "markdown",
   "id": "1766bab7-1788-4d9c-9d1f-1ddac52a3ba6",
   "metadata": {},
   "source": [
    "# Baseline Model (Random Forest)\n"
   ]
  },
  {
   "cell_type": "code",
   "execution_count": 18,
   "id": "9f4d3ed4-9010-4a93-97d2-308f2d6e24a8",
   "metadata": {},
   "outputs": [
    {
     "name": "stdout",
     "output_type": "stream",
     "text": [
      "       response_time_min  time_since_order_min  connected_handling_time  \\\n",
      "36514                3.0               13017.0                      NaN   \n",
      "56385                5.0                6075.0                      NaN   \n",
      "48990                1.0               13017.0                      NaN   \n",
      "32084               12.0               16144.0                      NaN   \n",
      "81089              375.0               13017.0                      NaN   \n",
      "\n",
      "       Item_price  neg_flag channel_name           category  \\\n",
      "36514         NaN         0      Inbound      Order Related   \n",
      "56385     10499.0         0      Outcall      Order Related   \n",
      "48990         NaN         0      Inbound     Refund Related   \n",
      "32084       899.0         0      Inbound            Returns   \n",
      "81089         NaN         0      Inbound  Shopzilla Related   \n",
      "\n",
      "                Sub-category Customer_City Product_category    Tenure Bucket  \\\n",
      "36514                Delayed           NaN              NaN              >90   \n",
      "56385                Delayed     AHMEDABAD           Mobile  On Job Training   \n",
      "48990  Refund Related Issues           NaN              NaN            31-60   \n",
      "32084                  Wrong      BULDHANA      Electronics              >90   \n",
      "81089        General Enquiry           NaN              NaN              >90   \n",
      "\n",
      "      Agent Shift Customer Remarks  \n",
      "36514     Morning              NaN  \n",
      "56385     Morning              NaN  \n",
      "48990     Evening              NaN  \n",
      "32084     Morning              NaN  \n",
      "81089     Morning              NaN  \n",
      "ColumnTransformer(transformers=[('num',\n",
      "                                 Pipeline(steps=[('imputer',\n",
      "                                                  SimpleImputer(strategy='median')),\n",
      "                                                 ('scaler', StandardScaler())]),\n",
      "                                 ['response_time_min', 'time_since_order_min',\n",
      "                                  'connected_handling_time', 'Item_price',\n",
      "                                  'neg_flag']),\n",
      "                                ('cat',\n",
      "                                 Pipeline(steps=[('imputer',\n",
      "                                                  SimpleImputer(strategy='most_frequent')),\n",
      "                                                 ('onehot',\n",
      "                                                  OneHotEncoder(handle_unknown='ignore',\n",
      "                                                                sparse_output=False))]),\n",
      "                                 ['channel_name', 'category', 'Sub-category',\n",
      "                                  'Customer_City', 'Product_category',\n",
      "                                  'Tenure Bucket', 'Agent Shift']),\n",
      "                                ('txt',\n",
      "                                 Pipeline(steps=[('imputer',\n",
      "                                                  SimpleImputer(fill_value='',\n",
      "                                                                strategy='constant')),\n",
      "                                                 ('tfidf',\n",
      "                                                  TfidfVectorizer(max_features=2000,\n",
      "                                                                  ngram_range=(1,\n",
      "                                                                               2)))]),\n",
      "                                 'Customer Remarks')])\n"
     ]
    }
   ],
   "source": [
    "print(X_train.head())  # Original features\n",
    "print(preprocessor)    # Preprocessor defined hai ya nahi\n"
   ]
  },
  {
   "cell_type": "markdown",
   "id": "6e69388f-5e2b-4c33-86ce-1588ddab150a",
   "metadata": {},
   "source": [
    "# Preprocessing "
   ]
  },
  {
   "cell_type": "code",
   "execution_count": 22,
   "id": "d5bba492-979d-45cd-8918-917edcac658b",
   "metadata": {},
   "outputs": [
    {
     "name": "stdout",
     "output_type": "stream",
     "text": [
      "<class 'pandas.core.frame.DataFrame'>\n",
      "(64430, 13)\n"
     ]
    }
   ],
   "source": [
    "print(type(X_train))\n",
    "print(X_train.shape)\n"
   ]
  },
  {
   "cell_type": "code",
   "execution_count": 26,
   "id": "79976e7a-b348-4501-8a0a-083d1cff8f5a",
   "metadata": {},
   "outputs": [
    {
     "name": "stdout",
     "output_type": "stream",
     "text": [
      "Categorical Columns: ['channel_name', 'category', 'Sub-category', 'Customer_City', 'Product_category', 'Tenure Bucket', 'Agent Shift', 'Customer Remarks']\n",
      "Numeric Columns: ['response_time_min', 'time_since_order_min', 'connected_handling_time', 'Item_price', 'neg_flag']\n",
      "X_train columns: ['response_time_min', 'time_since_order_min', 'connected_handling_time', 'Item_price', 'neg_flag', 'channel_name', 'category', 'Sub-category', 'Customer_City', 'Product_category', 'Tenure Bucket', 'Agent Shift', 'Customer Remarks']\n"
     ]
    }
   ],
   "source": [
    "# Split columns into categorical and numeric\n",
    "categorical_cols = X_train.select_dtypes(include=[\"object\"]).columns.tolist()\n",
    "numeric_cols = X_train.select_dtypes(exclude=[\"object\"]).columns.tolist()\n",
    "\n",
    "print(\"Categorical Columns:\", categorical_cols)\n",
    "print(\"Numeric Columns:\", numeric_cols)\n",
    "print(\"X_train columns:\", X_train.columns.tolist())\n"
   ]
  },
  {
   "cell_type": "code",
   "execution_count": 40,
   "id": "3b54dc59-bd88-41f8-936a-7c11292837b1",
   "metadata": {},
   "outputs": [
    {
     "name": "stdout",
     "output_type": "stream",
     "text": [
      "Variables saved successfully \n"
     ]
    }
   ],
   "source": [
    "import pickle\n",
    "\n",
    "# Save variables to a file\n",
    "with open(\"dataset_vars.pkl\", \"wb\") as f:\n",
    "    pickle.dump((X_train, X_test, y_train, y_test), f)\n",
    "\n",
    "print(\"Variables saved successfully \")\n"
   ]
  },
  {
   "cell_type": "code",
   "execution_count": 32,
   "id": "fc9eb817-8e1c-44cd-b6cf-3a848f163108",
   "metadata": {},
   "outputs": [
    {
     "name": "stdout",
     "output_type": "stream",
     "text": [
      "Train-Test variables saved successfully ✅\n"
     ]
    }
   ],
   "source": [
    "import pickle\n",
    "\n",
    "# Save train-test split variables\n",
    "with open(\"dataset_vars.pkl\", \"wb\") as f:\n",
    "    pickle.dump((X_train, X_test, y_train, y_test), f)\n",
    "\n",
    "print(\"Train-Test variables saved successfully \")\n"
   ]
  },
  {
   "cell_type": "code",
   "execution_count": 33,
   "id": "43c3539a-9adf-4ed0-ae96-7d9444d965e7",
   "metadata": {},
   "outputs": [
    {
     "name": "stdout",
     "output_type": "stream",
     "text": [
      "Variables saved successfully ✅\n"
     ]
    }
   ],
   "source": [
    "import joblib\n",
    "\n",
    "joblib.dump(X_train, \"X_train.pkl\")\n",
    "joblib.dump(X_test, \"X_test.pkl\")\n",
    "joblib.dump(y_train, \"y_train.pkl\")\n",
    "joblib.dump(y_test, \"y_test.pkl\")\n",
    "joblib.dump(preprocessor, \"preprocessor.pkl\")\n",
    "print(\"Variables saved successfully \")\n"
   ]
  },
  {
   "cell_type": "code",
   "execution_count": 34,
   "id": "4909f8f7-79d2-4468-b95c-da4a27774a5a",
   "metadata": {},
   "outputs": [],
   "source": [
    "# Basic Libraries\n",
    "import pandas as pd\n",
    "import numpy as np\n",
    "\n",
    "# Preprocessing & Model\n",
    "from sklearn.model_selection import train_test_split\n",
    "from sklearn.preprocessing import OneHotEncoder, StandardScaler\n",
    "from sklearn.compose import ColumnTransformer\n",
    "from sklearn.pipeline import Pipeline\n",
    "from sklearn.impute import SimpleImputer\n",
    "from sklearn.ensemble import RandomForestClassifier\n",
    "\n",
    "# Metrics\n",
    "from sklearn.metrics import accuracy_score, classification_report, confusion_matrix\n",
    "\n",
    "# Explainability\n",
    "import shap\n",
    "import matplotlib.pyplot as plt\n"
   ]
  },
  {
   "cell_type": "code",
   "execution_count": 35,
   "id": "e27b6f4c-a77b-4ea6-804e-91ae4d440a61",
   "metadata": {},
   "outputs": [
    {
     "name": "stdout",
     "output_type": "stream",
     "text": [
      "Preprocessing done ✅\n",
      "X_train_processed shape: (64430, 15511)\n",
      "X_test_processed shape: (21477, 15511)\n"
     ]
    }
   ],
   "source": [
    "# Identify columns\n",
    "categorical_cols = ['channel_name', 'category', 'Sub-category', 'Customer_City', 'Product_category', 'Tenure Bucket', 'Agent Shift', 'Customer Remarks']\n",
    "numeric_cols = ['response_time_min', 'time_since_order_min', 'connected_handling_time', 'Item_price', 'neg_flag']\n",
    "\n",
    "# Preprocessor\n",
    "numeric_transformer = Pipeline(steps=[\n",
    "    ('imputer', SimpleImputer(strategy='median')),\n",
    "    ('scaler', StandardScaler())\n",
    "])\n",
    "\n",
    "categorical_transformer = Pipeline(steps=[\n",
    "    ('imputer', SimpleImputer(strategy='most_frequent')),\n",
    "    ('onehot', OneHotEncoder(handle_unknown='ignore'))\n",
    "])\n",
    "\n",
    "preprocessor = ColumnTransformer(transformers=[\n",
    "    ('num', numeric_transformer, numeric_cols),\n",
    "    ('cat', categorical_transformer, categorical_cols)\n",
    "])\n",
    "\n",
    "# Fit and transform\n",
    "X_train_processed = preprocessor.fit_transform(X_train)\n",
    "X_test_processed = preprocessor.transform(X_test)\n",
    "\n",
    "print(\"Preprocessing done \")\n",
    "print(\"X_train_processed shape:\", X_train_processed.shape)\n",
    "print(\"X_test_processed shape:\", X_test_processed.shape)\n"
   ]
  },
  {
   "cell_type": "markdown",
   "id": "28ae05ab-c138-4828-8ffc-aea3e234b963",
   "metadata": {},
   "source": [
    "# Baseline Model – Random Forest"
   ]
  },
  {
   "cell_type": "code",
   "execution_count": 39,
   "id": "07900cac-07c9-47d6-8e7c-e28270ae0f5e",
   "metadata": {},
   "outputs": [
    {
     "name": "stdout",
     "output_type": "stream",
     "text": [
      "Baseline model trained successfully \n"
     ]
    }
   ],
   "source": [
    "# Initialize Random Forest\n",
    "baseline_model = RandomForestClassifier(random_state=42, n_jobs=-1)\n",
    "\n",
    "# Train the model\n",
    "baseline_model.fit(X_train_processed, y_train)\n",
    "print(\"Baseline model trained successfully \")\n"
   ]
  },
  {
   "cell_type": "markdown",
   "id": "3da1b62b-44fc-4278-8201-655f6acff61e",
   "metadata": {},
   "source": [
    "# Predictions\n"
   ]
  },
  {
   "cell_type": "code",
   "execution_count": 37,
   "id": "dbbb49df-704a-4557-805b-44e732e3b7c0",
   "metadata": {},
   "outputs": [
    {
     "name": "stdout",
     "output_type": "stream",
     "text": [
      "Accuracy: 0.8145923546119104\n",
      "\n",
      "Classification Report:\n",
      "               precision    recall  f1-score   support\n",
      "\n",
      "           0       0.43      0.18      0.25      3768\n",
      "           1       0.84      0.95      0.89     17709\n",
      "\n",
      "    accuracy                           0.81     21477\n",
      "   macro avg       0.64      0.56      0.57     21477\n",
      "weighted avg       0.77      0.81      0.78     21477\n",
      "\n",
      "\n",
      "Confusion Matrix:\n",
      " [[  675  3093]\n",
      " [  889 16820]]\n"
     ]
    }
   ],
   "source": [
    "# Predictions\n",
    "y_pred = baseline_model.predict(X_test_processed)\n",
    "\n",
    "# Accuracy & Classification Report\n",
    "accuracy = accuracy_score(y_test, y_pred)\n",
    "print(\"Accuracy:\", accuracy)\n",
    "print(\"\\nClassification Report:\\n\", classification_report(y_test, y_pred))\n",
    "\n",
    "# Confusion Matrix\n",
    "cm = confusion_matrix(y_test, y_pred)\n",
    "print(\"\\nConfusion Matrix:\\n\", cm)\n"
   ]
  },
  {
   "cell_type": "markdown",
   "id": "2327c7aa-cefa-4dbf-9567-c3fbcdf07b68",
   "metadata": {},
   "source": [
    "# Explainability with SHAP"
   ]
  },
  {
   "cell_type": "code",
   "execution_count": null,
   "id": "ba686581-efd0-4b42-811a-d4679f185135",
   "metadata": {},
   "outputs": [],
   "source": [
    "import shap\n",
    "import matplotlib.pyplot as plt\n",
    "\n",
    "# Dense conversion (agar sparse matrix hai)\n",
    "X_test_dense = X_test_processed.toarray()\n",
    "\n",
    "# SHAP explainer\n",
    "explainer = shap.TreeExplainer(baseline_model)\n",
    "shap_values = explainer.shap_values(X_test_dense)\n",
    "\n",
    "# Summary plot for class 1\n",
    "shap.summary_plot(shap_values[1], X_test_dense, feature_names=preprocessor.get_feature_names_out(), show=True)\n",
    "\n",
    "#force matplotlib to show plots in notebook\n",
    "plt.show()\n"
   ]
  },
  {
   "cell_type": "markdown",
   "id": "51064037-31b3-4d0e-8e39-caf5e8d55b7b",
   "metadata": {},
   "source": [
    "# save the model"
   ]
  },
  {
   "cell_type": "code",
   "execution_count": null,
   "id": "3d6901ca-df53-4630-b1f6-87b24469cea2",
   "metadata": {},
   "outputs": [],
   "source": [
    "import joblib\n",
    "\n",
    "# Save processed data\n",
    "joblib.dump(X_train_processed, \"X_train_processed.pkl\")\n",
    "joblib.dump(X_test_processed, \"X_test_processed.pkl\")\n",
    "joblib.dump(y_train, \"y_train.pkl\")\n",
    "joblib.dump(y_test, \"y_test.pkl\")\n"
   ]
  },
  {
   "cell_type": "code",
   "execution_count": null,
   "id": "a3250e88-5f52-426c-aff5-70e6f21eaeea",
   "metadata": {},
   "outputs": [],
   "source": [
    "X_train_processed = joblib.load(\"X_train_processed.pkl\")\n",
    "X_test_processed = joblib.load(\"X_test_processed.pkl\")\n",
    "y_train = joblib.load(\"y_train.pkl\")\n",
    "y_test = joblib.load(\"y_test.pkl\")\n"
   ]
  },
  {
   "cell_type": "code",
   "execution_count": null,
   "id": "74a2b14e-5227-44ee-88bd-aa40a36dc797",
   "metadata": {},
   "outputs": [],
   "source": [
    "joblib.dump(baseline_model, \"baseline_model.pkl\")\n"
   ]
  },
  {
   "cell_type": "code",
   "execution_count": null,
   "id": "1230e811-3336-4b08-ac51-1307881e5e89",
   "metadata": {},
   "outputs": [],
   "source": [
    "baseline_model = joblib.load(\"baseline_model.pkl\")\n"
   ]
  },
  {
   "cell_type": "code",
   "execution_count": null,
   "id": "2e5fda07-2ad6-4227-9464-c0d695507b0d",
   "metadata": {},
   "outputs": [],
   "source": []
  }
 ],
 "metadata": {
  "kernelspec": {
   "display_name": "Python 3 (ipykernel)",
   "language": "python",
   "name": "python3"
  },
  "language_info": {
   "codemirror_mode": {
    "name": "ipython",
    "version": 3
   },
   "file_extension": ".py",
   "mimetype": "text/x-python",
   "name": "python",
   "nbconvert_exporter": "python",
   "pygments_lexer": "ipython3",
   "version": "3.13.3"
  }
 },
 "nbformat": 4,
 "nbformat_minor": 5
}
